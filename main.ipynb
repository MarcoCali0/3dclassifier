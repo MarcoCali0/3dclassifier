{
 "cells": [
  {
   "cell_type": "code",
   "execution_count": 1,
   "metadata": {},
   "outputs": [
    {
     "name": "stderr",
     "output_type": "stream",
     "text": [
      "/usr/local/lib/python3.6/dist-packages/tqdm/auto.py:22: TqdmWarning: IProgress not found. Please update jupyter and ipywidgets. See https://ipywidgets.readthedocs.io/en/stable/user_install.html\n",
      "  from .autonotebook import tqdm as notebook_tqdm\n"
     ]
    },
    {
     "name": "stdout",
     "output_type": "stream",
     "text": [
      "Training device: cuda\n"
     ]
    }
   ],
   "source": [
    "%load_ext autoreload\n",
    "%autoreload 2\n",
    "import os\n",
    "import random\n",
    "import numpy as np\n",
    "import torch\n",
    "import torch.nn as nn\n",
    "from torch.utils.data import DataLoader\n",
    "from modelnetvoxel_dataset import ModelNetDatasetVoxel\n",
    "from cnn_model import *\n",
    "from train_model import train_and_evaluate\n",
    "from resnet_models import *\n",
    "from torchinfo import summary\n",
    "\n",
    "seed = 0\n",
    "random.seed(seed)\n",
    "torch.manual_seed(seed)\n",
    "np.random.seed(seed)\n",
    "\n",
    "num_classes = 10\n",
    "\n",
    "grid_size = 32\n",
    "object_size = 28\n",
    "pitch_rescale = 1\n",
    "no_of_rotations = 4\n",
    "DATA_DIR = f\"ModelNet10Voxel_{grid_size}_{object_size}_{pitch_rescale}_{no_of_rotations}\"\n",
    "\n",
    "batch_size = 64\n",
    "dataset = ModelNetDatasetVoxel(DATA_DIR, train=True)\n",
    "train_datapoints = int(0.85 * len(dataset))\n",
    "validation_datapoints = len(dataset) - train_datapoints\n",
    "train_dataset, validation_dataset = torch.utils.data.random_split(dataset, [train_datapoints, validation_datapoints])\n",
    "test_dataset = ModelNetDatasetVoxel(DATA_DIR, train=False)\n",
    "\n",
    "device = torch.device(\"cuda\" if torch.cuda.is_available() else \"cpu\")\n",
    "print(f\"Training device: {device}\")"
   ]
  },
  {
   "cell_type": "code",
   "execution_count": 2,
   "metadata": {},
   "outputs": [
    {
     "name": "stdout",
     "output_type": "stream",
     "text": [
      "Train class distribution (%): \t\t [22.2 17.   8.4  5.   2.7  5.  12.9  5.1 11.7  9.9]\n",
      "Validation class distribution (%): \t [22.5 17.   9.8  4.8  2.7  5.3 12.9  4.4 11.1  9.6]\n",
      "tensor([ 4.4960,  5.8664, 11.8818, 19.8377, 37.6917, 20.1620,  7.7449, 19.5237,\n",
      "         8.5179, 10.1337], device='cuda:0')\n",
      "==========================================================================================\n",
      "Layer (type:depth-idx)                   Output Shape              Param #\n",
      "==========================================================================================\n",
      "Simple3DCNN                              --                        --\n",
      "├─Conv3d: 1-1                            [64, 16, 32, 32, 32]      448\n",
      "├─MaxPool3d: 1-2                         [64, 16, 16, 16, 16]      --\n",
      "├─Conv3d: 1-3                            [64, 32, 16, 16, 16]      13,856\n",
      "├─MaxPool3d: 1-4                         [64, 32, 8, 8, 8]         --\n",
      "├─Conv3d: 1-5                            [64, 64, 8, 8, 8]         55,360\n",
      "├─MaxPool3d: 1-6                         [64, 64, 4, 4, 4]         --\n",
      "├─Linear: 1-7                            [64, 64]                  262,208\n",
      "├─Dropout: 1-8                           [64, 64]                  --\n",
      "├─Linear: 1-9                            [64, 10]                  650\n",
      "==========================================================================================\n",
      "Total params: 332,522\n",
      "Trainable params: 332,522\n",
      "Non-trainable params: 0\n",
      "Total mult-adds (G): 6.40\n",
      "==========================================================================================\n",
      "Input size (MB): 8.39\n",
      "Forward/backward pass size (MB): 352.36\n",
      "Params size (MB): 1.33\n",
      "Estimated Total Size (MB): 362.08\n",
      "==========================================================================================\n"
     ]
    }
   ],
   "source": [
    "train_class_distribution = np.zeros(num_classes)\n",
    "validation_class_distribution = np.zeros(num_classes)\n",
    "\n",
    "for index in train_dataset.indices:\n",
    "    label = train_dataset.dataset[index][1]\n",
    "    train_class_distribution[label] += 1\n",
    "\n",
    "for index in validation_dataset.indices:\n",
    "    label = validation_dataset.dataset[index][1]\n",
    "    validation_class_distribution[label] += 1\n",
    "\n",
    "print(\"Train class distribution (%): \\t\\t\", np.round(train_class_distribution / train_class_distribution.sum() * 100,1))\n",
    "print(\"Validation class distribution (%): \\t\", np.round(validation_class_distribution / validation_class_distribution.sum() * 100,1))\n",
    "\n",
    "class_weights = torch.tensor(1 / (train_class_distribution / train_class_distribution.sum()), dtype=torch.float32).to(device)\n",
    "print(class_weights)\n",
    "\n",
    "# Use the sampler in DataLoader\n",
    "train_dataloader = DataLoader(train_dataset, batch_size, shuffle=True, num_workers=int(os.cpu_count()))\n",
    "validation_dataloader = DataLoader(validation_dataset, batch_size, shuffle=True, num_workers=int(os.cpu_count()))\n",
    "test_dataloader = DataLoader(test_dataset, batch_size, shuffle=False, num_workers=int(os.cpu_count()))\n",
    "\n",
    "model = Simple3DCNN(10).to(device)\n",
    "print(summary(model, input_size=(batch_size, 1, grid_size, grid_size, grid_size)))"
   ]
  },
  {
   "cell_type": "code",
   "execution_count": 3,
   "metadata": {},
   "outputs": [
    {
     "name": "stdout",
     "output_type": "stream",
     "text": [
      "The autoreload extension is already loaded. To reload it, use:\n",
      "  %reload_ext autoreload\n"
     ]
    },
    {
     "name": "stderr",
     "output_type": "stream",
     "text": [
      "# EPOCH 0: Train loss: 0.06 \t: 100%|██████████| 213/213 [00:06<00:00, 32.84it/s]\n"
     ]
    },
    {
     "name": "stdout",
     "output_type": "stream",
     "text": [
      "Average training loss: 1.121\t Training accuracy: 0.625\n"
     ]
    },
    {
     "name": "stderr",
     "output_type": "stream",
     "text": [
      "100%|██████████| 38/38 [00:01<00:00, 23.96it/s]\n"
     ]
    },
    {
     "name": "stdout",
     "output_type": "stream",
     "text": [
      "Average validation loss: 0.541\tValidation accuracy: 0.825\n",
      "Update model!!!\n"
     ]
    },
    {
     "name": "stderr",
     "output_type": "stream",
     "text": [
      "# EPOCH 1: Train loss: 0.43 \t: 100%|██████████| 213/213 [00:06<00:00, 33.08it/s]\n"
     ]
    },
    {
     "name": "stdout",
     "output_type": "stream",
     "text": [
      "Average training loss: 0.567\t Training accuracy: 0.811\n"
     ]
    },
    {
     "name": "stderr",
     "output_type": "stream",
     "text": [
      "100%|██████████| 38/38 [00:01<00:00, 23.81it/s]\n"
     ]
    },
    {
     "name": "stdout",
     "output_type": "stream",
     "text": [
      "Average validation loss: 0.451\tValidation accuracy: 0.851\n",
      "Update model!!!\n"
     ]
    },
    {
     "name": "stderr",
     "output_type": "stream",
     "text": [
      "# EPOCH 2: Train loss: 0.22 \t: 100%|██████████| 213/213 [00:06<00:00, 33.04it/s]\n"
     ]
    },
    {
     "name": "stdout",
     "output_type": "stream",
     "text": [
      "Average training loss: 0.449\t Training accuracy: 0.850\n"
     ]
    },
    {
     "name": "stderr",
     "output_type": "stream",
     "text": [
      "100%|██████████| 38/38 [00:01<00:00, 23.85it/s]\n"
     ]
    },
    {
     "name": "stdout",
     "output_type": "stream",
     "text": [
      "Average validation loss: 0.354\tValidation accuracy: 0.891\n",
      "Update model!!!\n"
     ]
    },
    {
     "name": "stderr",
     "output_type": "stream",
     "text": [
      "# EPOCH 3: Train loss: 0.04 \t: 100%|██████████| 213/213 [00:06<00:00, 33.05it/s]\n"
     ]
    },
    {
     "name": "stdout",
     "output_type": "stream",
     "text": [
      "Average training loss: 0.362\t Training accuracy: 0.880\n"
     ]
    },
    {
     "name": "stderr",
     "output_type": "stream",
     "text": [
      "100%|██████████| 38/38 [00:01<00:00, 24.32it/s]\n"
     ]
    },
    {
     "name": "stdout",
     "output_type": "stream",
     "text": [
      "Average validation loss: 0.289\tValidation accuracy: 0.912\n",
      "Update model!!!\n"
     ]
    },
    {
     "name": "stderr",
     "output_type": "stream",
     "text": [
      "# EPOCH 4: Train loss: 0.52 \t: 100%|██████████| 213/213 [00:06<00:00, 33.07it/s]\n"
     ]
    },
    {
     "name": "stdout",
     "output_type": "stream",
     "text": [
      "Average training loss: 0.308\t Training accuracy: 0.896\n"
     ]
    },
    {
     "name": "stderr",
     "output_type": "stream",
     "text": [
      "100%|██████████| 38/38 [00:01<00:00, 24.21it/s]\n"
     ]
    },
    {
     "name": "stdout",
     "output_type": "stream",
     "text": [
      "Average validation loss: 0.322\tValidation accuracy: 0.896\n",
      "Incrementing patience epoch count:  1\n"
     ]
    },
    {
     "name": "stderr",
     "output_type": "stream",
     "text": [
      "# EPOCH 5: Train loss: 0.29 \t: 100%|██████████| 213/213 [00:06<00:00, 32.88it/s]\n"
     ]
    },
    {
     "name": "stdout",
     "output_type": "stream",
     "text": [
      "Average training loss: 0.285\t Training accuracy: 0.903\n"
     ]
    },
    {
     "name": "stderr",
     "output_type": "stream",
     "text": [
      "100%|██████████| 38/38 [00:01<00:00, 24.01it/s]\n"
     ]
    },
    {
     "name": "stdout",
     "output_type": "stream",
     "text": [
      "Average validation loss: 0.215\tValidation accuracy: 0.929\n",
      "Update model!!!\n"
     ]
    },
    {
     "name": "stderr",
     "output_type": "stream",
     "text": [
      "# EPOCH 6: Train loss: 0.01 \t: 100%|██████████| 213/213 [00:06<00:00, 33.02it/s]\n"
     ]
    },
    {
     "name": "stdout",
     "output_type": "stream",
     "text": [
      "Average training loss: 0.244\t Training accuracy: 0.914\n"
     ]
    },
    {
     "name": "stderr",
     "output_type": "stream",
     "text": [
      "100%|██████████| 38/38 [00:01<00:00, 23.90it/s]\n"
     ]
    },
    {
     "name": "stdout",
     "output_type": "stream",
     "text": [
      "Average validation loss: 0.202\tValidation accuracy: 0.934\n",
      "Update model!!!\n"
     ]
    },
    {
     "name": "stderr",
     "output_type": "stream",
     "text": [
      "# EPOCH 7: Train loss: 0.72 \t: 100%|██████████| 213/213 [00:06<00:00, 32.88it/s]\n"
     ]
    },
    {
     "name": "stdout",
     "output_type": "stream",
     "text": [
      "Average training loss: 0.217\t Training accuracy: 0.926\n"
     ]
    },
    {
     "name": "stderr",
     "output_type": "stream",
     "text": [
      "100%|██████████| 38/38 [00:01<00:00, 23.83it/s]\n"
     ]
    },
    {
     "name": "stdout",
     "output_type": "stream",
     "text": [
      "Average validation loss: 0.220\tValidation accuracy: 0.926\n",
      "Incrementing patience epoch count:  1\n"
     ]
    },
    {
     "name": "stderr",
     "output_type": "stream",
     "text": [
      "# EPOCH 8: Train loss: 0.0 \t: 100%|██████████| 213/213 [00:06<00:00, 32.85it/s] \n"
     ]
    },
    {
     "name": "stdout",
     "output_type": "stream",
     "text": [
      "Average training loss: 0.234\t Training accuracy: 0.921\n"
     ]
    },
    {
     "name": "stderr",
     "output_type": "stream",
     "text": [
      "100%|██████████| 38/38 [00:01<00:00, 23.95it/s]\n"
     ]
    },
    {
     "name": "stdout",
     "output_type": "stream",
     "text": [
      "Average validation loss: 0.176\tValidation accuracy: 0.944\n",
      "Update model!!!\n"
     ]
    },
    {
     "name": "stderr",
     "output_type": "stream",
     "text": [
      "# EPOCH 9: Train loss: 0.16 \t: 100%|██████████| 213/213 [00:06<00:00, 32.94it/s]\n"
     ]
    },
    {
     "name": "stdout",
     "output_type": "stream",
     "text": [
      "Average training loss: 0.187\t Training accuracy: 0.937\n"
     ]
    },
    {
     "name": "stderr",
     "output_type": "stream",
     "text": [
      "100%|██████████| 38/38 [00:01<00:00, 23.42it/s]\n"
     ]
    },
    {
     "name": "stdout",
     "output_type": "stream",
     "text": [
      "Average validation loss: 0.177\tValidation accuracy: 0.942\n",
      "Incrementing patience epoch count:  1\n"
     ]
    },
    {
     "name": "stderr",
     "output_type": "stream",
     "text": [
      "# EPOCH 10: Train loss: 0.1 \t: 100%|██████████| 213/213 [00:06<00:00, 33.01it/s] \n"
     ]
    },
    {
     "name": "stdout",
     "output_type": "stream",
     "text": [
      "Average training loss: 0.167\t Training accuracy: 0.940\n"
     ]
    },
    {
     "name": "stderr",
     "output_type": "stream",
     "text": [
      "100%|██████████| 38/38 [00:01<00:00, 24.28it/s]\n"
     ]
    },
    {
     "name": "stdout",
     "output_type": "stream",
     "text": [
      "Average validation loss: 0.159\tValidation accuracy: 0.945\n",
      "Update model!!!\n"
     ]
    },
    {
     "name": "stderr",
     "output_type": "stream",
     "text": [
      "# EPOCH 11: Train loss: 0.18 \t: 100%|██████████| 213/213 [00:06<00:00, 32.84it/s]\n"
     ]
    },
    {
     "name": "stdout",
     "output_type": "stream",
     "text": [
      "Average training loss: 0.159\t Training accuracy: 0.944\n"
     ]
    },
    {
     "name": "stderr",
     "output_type": "stream",
     "text": [
      "100%|██████████| 38/38 [00:01<00:00, 23.81it/s]\n"
     ]
    },
    {
     "name": "stdout",
     "output_type": "stream",
     "text": [
      "Average validation loss: 0.160\tValidation accuracy: 0.946\n",
      "Incrementing patience epoch count:  1\n"
     ]
    },
    {
     "name": "stderr",
     "output_type": "stream",
     "text": [
      "# EPOCH 12: Train loss: 1.02 \t: 100%|██████████| 213/213 [00:06<00:00, 32.84it/s]\n"
     ]
    },
    {
     "name": "stdout",
     "output_type": "stream",
     "text": [
      "Average training loss: 0.149\t Training accuracy: 0.947\n"
     ]
    },
    {
     "name": "stderr",
     "output_type": "stream",
     "text": [
      "100%|██████████| 38/38 [00:01<00:00, 23.97it/s]\n"
     ]
    },
    {
     "name": "stdout",
     "output_type": "stream",
     "text": [
      "Average validation loss: 0.160\tValidation accuracy: 0.946\n",
      "Incrementing patience epoch count:  2\n"
     ]
    },
    {
     "name": "stderr",
     "output_type": "stream",
     "text": [
      "# EPOCH 13: Train loss: 0.02 \t: 100%|██████████| 213/213 [00:06<00:00, 32.75it/s]\n"
     ]
    },
    {
     "name": "stdout",
     "output_type": "stream",
     "text": [
      "Average training loss: 0.150\t Training accuracy: 0.946\n"
     ]
    },
    {
     "name": "stderr",
     "output_type": "stream",
     "text": [
      "100%|██████████| 38/38 [00:01<00:00, 24.17it/s]\n"
     ]
    },
    {
     "name": "stdout",
     "output_type": "stream",
     "text": [
      "Average validation loss: 0.156\tValidation accuracy: 0.947\n",
      "Update model!!!\n"
     ]
    },
    {
     "name": "stderr",
     "output_type": "stream",
     "text": [
      "# EPOCH 14: Train loss: 0.01 \t: 100%|██████████| 213/213 [00:06<00:00, 32.95it/s]\n"
     ]
    },
    {
     "name": "stdout",
     "output_type": "stream",
     "text": [
      "Average training loss: 0.125\t Training accuracy: 0.955\n"
     ]
    },
    {
     "name": "stderr",
     "output_type": "stream",
     "text": [
      "100%|██████████| 38/38 [00:01<00:00, 24.21it/s]\n"
     ]
    },
    {
     "name": "stdout",
     "output_type": "stream",
     "text": [
      "Average validation loss: 0.137\tValidation accuracy: 0.954\n",
      "Update model!!!\n"
     ]
    },
    {
     "name": "stderr",
     "output_type": "stream",
     "text": [
      "# EPOCH 15: Train loss: 0.0 \t: 100%|██████████| 213/213 [00:06<00:00, 33.18it/s] \n"
     ]
    },
    {
     "name": "stdout",
     "output_type": "stream",
     "text": [
      "Average training loss: 0.119\t Training accuracy: 0.959\n"
     ]
    },
    {
     "name": "stderr",
     "output_type": "stream",
     "text": [
      "100%|██████████| 38/38 [00:01<00:00, 24.27it/s]\n"
     ]
    },
    {
     "name": "stdout",
     "output_type": "stream",
     "text": [
      "Average validation loss: 0.124\tValidation accuracy: 0.955\n",
      "Update model!!!\n"
     ]
    },
    {
     "name": "stderr",
     "output_type": "stream",
     "text": [
      "# EPOCH 16: Train loss: 0.0 \t: 100%|██████████| 213/213 [00:06<00:00, 32.86it/s] \n"
     ]
    },
    {
     "name": "stdout",
     "output_type": "stream",
     "text": [
      "Average training loss: 0.114\t Training accuracy: 0.957\n"
     ]
    },
    {
     "name": "stderr",
     "output_type": "stream",
     "text": [
      "100%|██████████| 38/38 [00:01<00:00, 23.95it/s]\n"
     ]
    },
    {
     "name": "stdout",
     "output_type": "stream",
     "text": [
      "Average validation loss: 0.123\tValidation accuracy: 0.958\n",
      "Update model!!!\n"
     ]
    },
    {
     "name": "stderr",
     "output_type": "stream",
     "text": [
      "# EPOCH 17: Train loss: 0.0 \t: 100%|██████████| 213/213 [00:06<00:00, 33.10it/s] \n"
     ]
    },
    {
     "name": "stdout",
     "output_type": "stream",
     "text": [
      "Average training loss: 0.105\t Training accuracy: 0.962\n"
     ]
    },
    {
     "name": "stderr",
     "output_type": "stream",
     "text": [
      "100%|██████████| 38/38 [00:01<00:00, 24.06it/s]\n"
     ]
    },
    {
     "name": "stdout",
     "output_type": "stream",
     "text": [
      "Average validation loss: 0.128\tValidation accuracy: 0.959\n",
      "Incrementing patience epoch count:  1\n"
     ]
    },
    {
     "name": "stderr",
     "output_type": "stream",
     "text": [
      "# EPOCH 18: Train loss: 0.01 \t: 100%|██████████| 213/213 [00:06<00:00, 32.88it/s]\n"
     ]
    },
    {
     "name": "stdout",
     "output_type": "stream",
     "text": [
      "Average training loss: 0.099\t Training accuracy: 0.964\n"
     ]
    },
    {
     "name": "stderr",
     "output_type": "stream",
     "text": [
      "100%|██████████| 38/38 [00:01<00:00, 24.13it/s]\n"
     ]
    },
    {
     "name": "stdout",
     "output_type": "stream",
     "text": [
      "Average validation loss: 0.128\tValidation accuracy: 0.959\n",
      "Incrementing patience epoch count:  2\n"
     ]
    },
    {
     "name": "stderr",
     "output_type": "stream",
     "text": [
      "# EPOCH 19: Train loss: 0.11 \t: 100%|██████████| 213/213 [00:06<00:00, 32.96it/s]\n"
     ]
    },
    {
     "name": "stdout",
     "output_type": "stream",
     "text": [
      "Average training loss: 0.092\t Training accuracy: 0.967\n"
     ]
    },
    {
     "name": "stderr",
     "output_type": "stream",
     "text": [
      "100%|██████████| 38/38 [00:01<00:00, 24.16it/s]\n"
     ]
    },
    {
     "name": "stdout",
     "output_type": "stream",
     "text": [
      "Average validation loss: 0.125\tValidation accuracy: 0.958\n",
      "Incrementing patience epoch count:  3\n"
     ]
    },
    {
     "name": "stderr",
     "output_type": "stream",
     "text": [
      "# EPOCH 20: Train loss: 0.04 \t: 100%|██████████| 213/213 [00:06<00:00, 33.05it/s]\n"
     ]
    },
    {
     "name": "stdout",
     "output_type": "stream",
     "text": [
      "Average training loss: 0.087\t Training accuracy: 0.967\n"
     ]
    },
    {
     "name": "stderr",
     "output_type": "stream",
     "text": [
      "100%|██████████| 38/38 [00:01<00:00, 24.42it/s]\n"
     ]
    },
    {
     "name": "stdout",
     "output_type": "stream",
     "text": [
      "Average validation loss: 0.137\tValidation accuracy: 0.957\n",
      "Incrementing patience epoch count:  4\n"
     ]
    },
    {
     "name": "stderr",
     "output_type": "stream",
     "text": [
      "# EPOCH 21: Train loss: 0.01 \t: 100%|██████████| 213/213 [00:06<00:00, 32.94it/s]\n"
     ]
    },
    {
     "name": "stdout",
     "output_type": "stream",
     "text": [
      "Average training loss: 0.086\t Training accuracy: 0.969\n"
     ]
    },
    {
     "name": "stderr",
     "output_type": "stream",
     "text": [
      "100%|██████████| 38/38 [00:01<00:00, 24.17it/s]\n"
     ]
    },
    {
     "name": "stdout",
     "output_type": "stream",
     "text": [
      "Average validation loss: 0.110\tValidation accuracy: 0.965\n",
      "Update model!!!\n"
     ]
    },
    {
     "name": "stderr",
     "output_type": "stream",
     "text": [
      "# EPOCH 22: Train loss: 0.01 \t: 100%|██████████| 213/213 [00:06<00:00, 33.13it/s]\n"
     ]
    },
    {
     "name": "stdout",
     "output_type": "stream",
     "text": [
      "Average training loss: 0.078\t Training accuracy: 0.969\n"
     ]
    },
    {
     "name": "stderr",
     "output_type": "stream",
     "text": [
      "100%|██████████| 38/38 [00:01<00:00, 24.14it/s]\n"
     ]
    },
    {
     "name": "stdout",
     "output_type": "stream",
     "text": [
      "Average validation loss: 0.121\tValidation accuracy: 0.958\n",
      "Incrementing patience epoch count:  1\n"
     ]
    },
    {
     "name": "stderr",
     "output_type": "stream",
     "text": [
      "# EPOCH 23: Train loss: 0.0 \t: 100%|██████████| 213/213 [00:06<00:00, 33.08it/s] \n"
     ]
    },
    {
     "name": "stdout",
     "output_type": "stream",
     "text": [
      "Average training loss: 0.075\t Training accuracy: 0.973\n"
     ]
    },
    {
     "name": "stderr",
     "output_type": "stream",
     "text": [
      "100%|██████████| 38/38 [00:01<00:00, 24.13it/s]\n"
     ]
    },
    {
     "name": "stdout",
     "output_type": "stream",
     "text": [
      "Average validation loss: 0.110\tValidation accuracy: 0.963\n",
      "Incrementing patience epoch count:  2\n"
     ]
    },
    {
     "name": "stderr",
     "output_type": "stream",
     "text": [
      "# EPOCH 24: Train loss: 0.0 \t: 100%|██████████| 213/213 [00:06<00:00, 32.97it/s] \n"
     ]
    },
    {
     "name": "stdout",
     "output_type": "stream",
     "text": [
      "Average training loss: 0.073\t Training accuracy: 0.972\n"
     ]
    },
    {
     "name": "stderr",
     "output_type": "stream",
     "text": [
      "100%|██████████| 38/38 [00:01<00:00, 24.09it/s]\n"
     ]
    },
    {
     "name": "stdout",
     "output_type": "stream",
     "text": [
      "Average validation loss: 0.128\tValidation accuracy: 0.954\n",
      "Incrementing patience epoch count:  3\n"
     ]
    },
    {
     "name": "stderr",
     "output_type": "stream",
     "text": [
      "# EPOCH 25: Train loss: 0.0 \t: 100%|██████████| 213/213 [00:06<00:00, 33.11it/s] \n"
     ]
    },
    {
     "name": "stdout",
     "output_type": "stream",
     "text": [
      "Average training loss: 0.069\t Training accuracy: 0.973\n"
     ]
    },
    {
     "name": "stderr",
     "output_type": "stream",
     "text": [
      "100%|██████████| 38/38 [00:01<00:00, 24.23it/s]\n"
     ]
    },
    {
     "name": "stdout",
     "output_type": "stream",
     "text": [
      "Average validation loss: 0.107\tValidation accuracy: 0.968\n",
      "Update model!!!\n"
     ]
    },
    {
     "name": "stderr",
     "output_type": "stream",
     "text": [
      "# EPOCH 26: Train loss: 0.0 \t: 100%|██████████| 213/213 [00:06<00:00, 32.99it/s] \n"
     ]
    },
    {
     "name": "stdout",
     "output_type": "stream",
     "text": [
      "Average training loss: 0.061\t Training accuracy: 0.977\n"
     ]
    },
    {
     "name": "stderr",
     "output_type": "stream",
     "text": [
      "100%|██████████| 38/38 [00:01<00:00, 24.19it/s]\n"
     ]
    },
    {
     "name": "stdout",
     "output_type": "stream",
     "text": [
      "Average validation loss: 0.106\tValidation accuracy: 0.965\n",
      "Update model!!!\n"
     ]
    },
    {
     "name": "stderr",
     "output_type": "stream",
     "text": [
      "# EPOCH 27: Train loss: 0.0 \t: 100%|██████████| 213/213 [00:06<00:00, 32.97it/s] \n"
     ]
    },
    {
     "name": "stdout",
     "output_type": "stream",
     "text": [
      "Average training loss: 0.063\t Training accuracy: 0.977\n"
     ]
    },
    {
     "name": "stderr",
     "output_type": "stream",
     "text": [
      "100%|██████████| 38/38 [00:01<00:00, 23.44it/s]\n"
     ]
    },
    {
     "name": "stdout",
     "output_type": "stream",
     "text": [
      "Average validation loss: 0.102\tValidation accuracy: 0.966\n",
      "Update model!!!\n"
     ]
    },
    {
     "name": "stderr",
     "output_type": "stream",
     "text": [
      "# EPOCH 28: Train loss: 1.69 \t: 100%|██████████| 213/213 [00:06<00:00, 33.01it/s]\n"
     ]
    },
    {
     "name": "stdout",
     "output_type": "stream",
     "text": [
      "Average training loss: 0.064\t Training accuracy: 0.980\n"
     ]
    },
    {
     "name": "stderr",
     "output_type": "stream",
     "text": [
      "100%|██████████| 38/38 [00:01<00:00, 24.34it/s]\n"
     ]
    },
    {
     "name": "stdout",
     "output_type": "stream",
     "text": [
      "Average validation loss: 0.105\tValidation accuracy: 0.966\n",
      "Incrementing patience epoch count:  1\n"
     ]
    },
    {
     "name": "stderr",
     "output_type": "stream",
     "text": [
      "# EPOCH 29: Train loss: 0.0 \t: 100%|██████████| 213/213 [00:06<00:00, 32.88it/s] \n"
     ]
    },
    {
     "name": "stdout",
     "output_type": "stream",
     "text": [
      "Average training loss: 0.083\t Training accuracy: 0.968\n"
     ]
    },
    {
     "name": "stderr",
     "output_type": "stream",
     "text": [
      "100%|██████████| 38/38 [00:01<00:00, 21.36it/s]\n"
     ]
    },
    {
     "name": "stdout",
     "output_type": "stream",
     "text": [
      "Average validation loss: 0.119\tValidation accuracy: 0.964\n",
      "Incrementing patience epoch count:  2\n"
     ]
    },
    {
     "name": "stderr",
     "output_type": "stream",
     "text": [
      "# EPOCH 30: Train loss: 0.0 \t: 100%|██████████| 213/213 [00:06<00:00, 32.90it/s] \n"
     ]
    },
    {
     "name": "stdout",
     "output_type": "stream",
     "text": [
      "Average training loss: 0.059\t Training accuracy: 0.977\n"
     ]
    },
    {
     "name": "stderr",
     "output_type": "stream",
     "text": [
      "100%|██████████| 38/38 [00:01<00:00, 23.74it/s]\n"
     ]
    },
    {
     "name": "stdout",
     "output_type": "stream",
     "text": [
      "Average validation loss: 0.094\tValidation accuracy: 0.969\n",
      "Update model!!!\n"
     ]
    },
    {
     "name": "stderr",
     "output_type": "stream",
     "text": [
      "# EPOCH 31: Train loss: 0.0 \t: 100%|██████████| 213/213 [00:06<00:00, 32.74it/s] \n"
     ]
    },
    {
     "name": "stdout",
     "output_type": "stream",
     "text": [
      "Average training loss: 0.052\t Training accuracy: 0.982\n"
     ]
    },
    {
     "name": "stderr",
     "output_type": "stream",
     "text": [
      "100%|██████████| 38/38 [00:01<00:00, 24.13it/s]\n"
     ]
    },
    {
     "name": "stdout",
     "output_type": "stream",
     "text": [
      "Average validation loss: 0.101\tValidation accuracy: 0.968\n",
      "Incrementing patience epoch count:  1\n"
     ]
    },
    {
     "name": "stderr",
     "output_type": "stream",
     "text": [
      "# EPOCH 32: Train loss: 0.0 \t: 100%|██████████| 213/213 [00:06<00:00, 32.91it/s] \n"
     ]
    },
    {
     "name": "stdout",
     "output_type": "stream",
     "text": [
      "Average training loss: 0.047\t Training accuracy: 0.982\n"
     ]
    },
    {
     "name": "stderr",
     "output_type": "stream",
     "text": [
      "100%|██████████| 38/38 [00:01<00:00, 24.15it/s]\n"
     ]
    },
    {
     "name": "stdout",
     "output_type": "stream",
     "text": [
      "Average validation loss: 0.115\tValidation accuracy: 0.964\n",
      "Incrementing patience epoch count:  2\n"
     ]
    },
    {
     "name": "stderr",
     "output_type": "stream",
     "text": [
      "# EPOCH 33: Train loss: 0.0 \t: 100%|██████████| 213/213 [00:06<00:00, 32.88it/s] \n"
     ]
    },
    {
     "name": "stdout",
     "output_type": "stream",
     "text": [
      "Average training loss: 0.050\t Training accuracy: 0.981\n"
     ]
    },
    {
     "name": "stderr",
     "output_type": "stream",
     "text": [
      "100%|██████████| 38/38 [00:01<00:00, 23.31it/s]\n"
     ]
    },
    {
     "name": "stdout",
     "output_type": "stream",
     "text": [
      "Average validation loss: 0.096\tValidation accuracy: 0.968\n",
      "Incrementing patience epoch count:  3\n"
     ]
    },
    {
     "name": "stderr",
     "output_type": "stream",
     "text": [
      "# EPOCH 34: Train loss: 0.0 \t: 100%|██████████| 213/213 [00:06<00:00, 31.38it/s] \n"
     ]
    },
    {
     "name": "stdout",
     "output_type": "stream",
     "text": [
      "Average training loss: 0.050\t Training accuracy: 0.981\n"
     ]
    },
    {
     "name": "stderr",
     "output_type": "stream",
     "text": [
      "100%|██████████| 38/38 [00:01<00:00, 23.84it/s]\n"
     ]
    },
    {
     "name": "stdout",
     "output_type": "stream",
     "text": [
      "Average validation loss: 0.118\tValidation accuracy: 0.962\n",
      "Incrementing patience epoch count:  4\n"
     ]
    },
    {
     "name": "stderr",
     "output_type": "stream",
     "text": [
      "# EPOCH 35: Train loss: 0.0 \t: 100%|██████████| 213/213 [00:06<00:00, 32.88it/s] \n"
     ]
    },
    {
     "name": "stdout",
     "output_type": "stream",
     "text": [
      "Average training loss: 0.046\t Training accuracy: 0.982\n"
     ]
    },
    {
     "name": "stderr",
     "output_type": "stream",
     "text": [
      "100%|██████████| 38/38 [00:01<00:00, 23.56it/s]\n"
     ]
    },
    {
     "name": "stdout",
     "output_type": "stream",
     "text": [
      "Average validation loss: 0.101\tValidation accuracy: 0.972\n",
      "Incrementing patience epoch count:  5\n"
     ]
    },
    {
     "name": "stderr",
     "output_type": "stream",
     "text": [
      "# EPOCH 36: Train loss: 0.0 \t: 100%|██████████| 213/213 [00:06<00:00, 32.76it/s] \n"
     ]
    },
    {
     "name": "stdout",
     "output_type": "stream",
     "text": [
      "Average training loss: 0.047\t Training accuracy: 0.982\n"
     ]
    },
    {
     "name": "stderr",
     "output_type": "stream",
     "text": [
      "100%|██████████| 38/38 [00:01<00:00, 23.74it/s]"
     ]
    },
    {
     "name": "stdout",
     "output_type": "stream",
     "text": [
      "Average validation loss: 0.097\tValidation accuracy: 0.969\n",
      "Incrementing patience epoch count:  6\n",
      "Early stopping at 37 epochs!\n"
     ]
    },
    {
     "name": "stderr",
     "output_type": "stream",
     "text": [
      "\n"
     ]
    }
   ],
   "source": [
    "# Define your model, optimizer, and loss function\n",
    "%load_ext autoreload\n",
    "%autoreload 2\n",
    "loss_fn = nn.CrossEntropyLoss()\n",
    "opt = torch.optim.Adam(model.parameters(), lr=1e-4)\n",
    "\n",
    "train_loss_log, val_loss_log, train_acc_log, val_acc_log = train_and_evaluate(\n",
    "    model, \n",
    "    train_dataloader, \n",
    "    validation_dataloader,\n",
    "    loss_fn, \n",
    "    opt,\n",
    "    num_epochs=50,\n",
    "    patience_epochs=5,\n",
    "    checkpoint_path=\"checkpoint.pt\",\n",
    "    resume_training=False,\n",
    "    device=device\n",
    ")"
   ]
  },
  {
   "cell_type": "code",
   "execution_count": 4,
   "metadata": {},
   "outputs": [
    {
     "data": {
      "image/png": "[encoded data removed]",
      "text/plain": [
       "<Figure size 864x864 with 4 Axes>"
      ]
     },
     "metadata": {
      "needs_background": "light"
     },
     "output_type": "display_data"
    }
   ],
   "source": [
    "import matplotlib.pyplot as plt\n",
    "\n",
    "epochs = range(len(train_loss_log))\n",
    "fig, axs = plt.subplots(2, 2, figsize=(12, 12))\n",
    "\n",
    "# Plot Training Loss\n",
    "axs[0, 0].plot(epochs, train_loss_log, label='Training Loss', color='red')\n",
    "axs[0, 0].set_title('Training Loss')\n",
    "axs[0, 0].set_xlabel('Epochs')\n",
    "axs[0, 0].set_ylabel('Loss')\n",
    "axs[0, 0].legend()\n",
    "axs[0, 0].grid()\n",
    "\n",
    "# Plot Validation Loss\n",
    "axs[0, 1].plot(epochs, val_loss_log, label='Validation Loss', color='blue')\n",
    "axs[0, 1].set_title('Validation Loss')\n",
    "axs[0, 1].set_xlabel('Epochs')\n",
    "axs[0, 1].set_ylabel('Loss')\n",
    "axs[0, 1].legend()\n",
    "axs[0, 1].grid()\n",
    "\n",
    "# Plot Training Accuracy\n",
    "axs[1, 0].plot(epochs, train_acc_log, label='Training Accuracy', color='green')\n",
    "axs[1, 0].set_title('Training Accuracy')\n",
    "axs[1, 0].set_xlabel('Epochs')\n",
    "axs[1, 0].set_ylabel('Accuracy')\n",
    "axs[1, 0].legend()\n",
    "axs[1, 0].grid()\n",
    "\n",
    "# Plot Validation Accuracy\n",
    "axs[1, 1].plot(epochs, val_acc_log, label='Validation Accuracy', color='orange')\n",
    "axs[1, 1].set_title('Validation Accuracy')\n",
    "axs[1, 1].set_xlabel('Epochs')\n",
    "axs[1, 1].set_ylabel('Accuracy')\n",
    "axs[1, 1].legend()\n",
    "axs[1, 1].grid()\n",
    "\n",
    "\n",
    "plt.tight_layout()\n",
    "plt.show()"
   ]
  }
 ],
 "metadata": {
  "kernelspec": {
   "display_name": "Python 3",
   "language": "python",
   "name": "python3"
  },
  "language_info": {
   "codemirror_mode": {
    "name": "ipython",
    "version": 3
   },
   "file_extension": ".py",
   "mimetype": "text/x-python",
   "name": "python",
   "nbconvert_exporter": "python",
   "pygments_lexer": "ipython3",
   "version": "3.6.9"
  }
 },
 "nbformat": 4,
 "nbformat_minor": 2
}
